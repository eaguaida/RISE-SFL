{
  "cells": [
    {
      "cell_type": "code",
      "execution_count": 5,
      "metadata": {
        "id": "li6ZPHOrDBnd",
        "outputId": "3fe9d5df-68ce-4325-93dc-11c58de82a3a",
        "colab": {
          "base_uri": "https://localhost:8080/"
        }
      },
      "outputs": [
        {
          "output_type": "stream",
          "name": "stdout",
          "text": [
            "fatal: destination path 'RISE-SFL' already exists and is not an empty directory.\n"
          ]
        }
      ],
      "source": [
        "!git clone -b fix_object_sfl https://github.com/eaguaida/RISE-SFL.git"
      ]
    },
    {
      "cell_type": "code",
      "source": [],
      "metadata": {
        "id": "xPVoRQxiukZe"
      },
      "execution_count": 5,
      "outputs": []
    },
    {
      "cell_type": "code",
      "source": [],
      "metadata": {
        "id": "gsJCvBKYvVSW"
      },
      "execution_count": 5,
      "outputs": []
    },
    {
      "cell_type": "code",
      "source": [
        "!ls -a"
      ],
      "metadata": {
        "colab": {
          "base_uri": "https://localhost:8080/"
        },
        "id": "gosrAOXMvdVD",
        "outputId": "8373cf38-e16d-47a2-e44f-3e64571040b6"
      },
      "execution_count": 6,
      "outputs": [
        {
          "output_type": "stream",
          "name": "stdout",
          "text": [
            ".  ..  .config\tRISE-SFL  sample_data\n"
          ]
        }
      ]
    },
    {
      "cell_type": "code",
      "source": [
        "import sys\n",
        "import os\n",
        "\n",
        "rise_sfl_path = \"/content/RISE-SFL/RISE-SFL\"  # Replace with the actual path to your RISE-SFL folder\n",
        "sys.path.append(rise_sfl_path)"
      ],
      "metadata": {
        "id": "jg-jAiznKATv"
      },
      "execution_count": 7,
      "outputs": []
    },
    {
      "cell_type": "code",
      "source": [
        "from utils.utils import *\n",
        "# From masker/generation.py\n",
        "from masker.generation import SFL"
      ],
      "metadata": {
        "id": "Ci9zsc2DK3Dw",
        "colab": {
          "base_uri": "https://localhost:8080/",
          "height": 463
        },
        "outputId": "82290757-d6e6-46b4-82ce-62324543854b"
      },
      "execution_count": 8,
      "outputs": [
        {
          "output_type": "error",
          "ename": "ModuleNotFoundError",
          "evalue": "No module named '_innit_'",
          "traceback": [
            "\u001b[0;31m---------------------------------------------------------------------------\u001b[0m",
            "\u001b[0;31mModuleNotFoundError\u001b[0m                       Traceback (most recent call last)",
            "\u001b[0;32m<ipython-input-8-92cb93f3ce19>\u001b[0m in \u001b[0;36m<cell line: 3>\u001b[0;34m()\u001b[0m\n\u001b[1;32m      1\u001b[0m \u001b[0;32mfrom\u001b[0m \u001b[0mutils\u001b[0m\u001b[0;34m.\u001b[0m\u001b[0mutils\u001b[0m \u001b[0;32mimport\u001b[0m \u001b[0;34m*\u001b[0m\u001b[0;34m\u001b[0m\u001b[0;34m\u001b[0m\u001b[0m\n\u001b[1;32m      2\u001b[0m \u001b[0;31m# From masker/generation.py\u001b[0m\u001b[0;34m\u001b[0m\u001b[0;34m\u001b[0m\u001b[0m\n\u001b[0;32m----> 3\u001b[0;31m \u001b[0;32mfrom\u001b[0m \u001b[0mmasker\u001b[0m\u001b[0;34m.\u001b[0m\u001b[0mgeneration\u001b[0m \u001b[0;32mimport\u001b[0m \u001b[0mSFL\u001b[0m\u001b[0;34m\u001b[0m\u001b[0;34m\u001b[0m\u001b[0m\n\u001b[0m",
            "\u001b[0;32m/content/RISE-SFL/RISE-SFL/masker/generation.py\u001b[0m in \u001b[0;36m<module>\u001b[0;34m\u001b[0m\n\u001b[0;32m----> 1\u001b[0;31m \u001b[0;32mfrom\u001b[0m \u001b[0m_innit_\u001b[0m \u001b[0;32mimport\u001b[0m \u001b[0;34m*\u001b[0m\u001b[0;34m\u001b[0m\u001b[0;34m\u001b[0m\u001b[0m\n\u001b[0m\u001b[1;32m      2\u001b[0m \u001b[0;34m\u001b[0m\u001b[0m\n\u001b[1;32m      3\u001b[0m \u001b[0;34m\u001b[0m\u001b[0m\n\u001b[1;32m      4\u001b[0m \u001b[0;32mclass\u001b[0m \u001b[0mSFL\u001b[0m\u001b[0;34m:\u001b[0m\u001b[0;34m\u001b[0m\u001b[0;34m\u001b[0m\u001b[0m\n\u001b[1;32m      5\u001b[0m     \u001b[0;32mdef\u001b[0m \u001b[0m__init__\u001b[0m\u001b[0;34m(\u001b[0m\u001b[0mself\u001b[0m\u001b[0;34m,\u001b[0m \u001b[0mmodel\u001b[0m\u001b[0;34m,\u001b[0m \u001b[0minput_size\u001b[0m\u001b[0;34m)\u001b[0m\u001b[0;34m:\u001b[0m\u001b[0;34m\u001b[0m\u001b[0;34m\u001b[0m\u001b[0m\n",
            "\u001b[0;31mModuleNotFoundError\u001b[0m: No module named '_innit_'",
            "",
            "\u001b[0;31m---------------------------------------------------------------------------\u001b[0;32m\nNOTE: If your import is failing due to a missing package, you can\nmanually install dependencies using either !pip or !apt.\n\nTo view examples of installing some common dependencies, click the\n\"Open Examples\" button below.\n\u001b[0;31m---------------------------------------------------------------------------\u001b[0m\n"
          ],
          "errorDetails": {
            "actions": [
              {
                "action": "open_url",
                "actionText": "Open Examples",
                "url": "/notebooks/snippets/importing_libraries.ipynb"
              }
            ]
          }
        }
      ]
    },
    {
      "cell_type": "code",
      "source": [
        "import numpy as np\n",
        "import random\n",
        "import torch\n",
        "import torch.nn as nn\n",
        "import torch.nn.functional as F\n",
        "import torch.backends.cudnn as cudnn\n",
        "import torchvision.datasets as datasets\n",
        "import torchvision.models as models\n",
        "from torchvision import transforms\n",
        "from PIL import Image\n",
        "from keras.preprocessing import image\n",
        "# Assuming utils, evaluation, and explanations modules are custom and present in your project\n",
        "import json\n",
        "from torch.nn.functional import softmax, conv2d\n",
        "\n",
        "from mpl_toolkits.axes_grid1 import make_axes_locatable"
      ],
      "metadata": {
        "id": "EPiLT3SuMI53"
      },
      "execution_count": null,
      "outputs": []
    },
    {
      "cell_type": "code",
      "source": [
        "cudnn.benchmark = True\n",
        "# Load black box model for explanations\n",
        "model = models.resnet50(True)\n",
        "model = nn.Sequential(model, nn.Softmax(dim=1))\n",
        "model = model.eval()\n",
        "model = model.cuda()\n",
        "\n",
        "for p in model.parameters():\n",
        "    p.requires_grad = False\n",
        "\n",
        "# To use multiple GPUs\n",
        "model = nn.DataParallel(model)"
      ],
      "metadata": {
        "id": "gq3asyvPBKp1"
      },
      "execution_count": null,
      "outputs": []
    },
    {
      "cell_type": "code",
      "source": [
        "import os\n",
        "import requests\n",
        "import zipfile\n",
        "from torchvision import transforms, datasets\n",
        "from torch.utils.data import DataLoader\n",
        "import numpy as np"
      ],
      "metadata": {
        "id": "OKvKvr5fBQf2"
      },
      "execution_count": null,
      "outputs": []
    },
    {
      "cell_type": "code",
      "source": [
        "'''\n",
        "img_path = '/content/RISE-SFL/data/catdog.png'\n",
        "img = read_tensor(img_path)\n",
        "\n",
        "with torch.no_grad():\n",
        "    output = model(img)\n",
        "    top_probabilities, top_classes = torch.topk(output, k=3, dim=1)\n",
        "    top_pred_class = top_classes[0][1].item()\n",
        "    top_pred_class_name = get_class_name(top_pred_class)\n",
        "\n",
        "for zx in range(3):\n",
        "    class_name = get_class_name(top_classes[0][zx].item())\n",
        "    percentage = top_probabilities[0][zx].item() * 100\n",
        "    print(f'Top {zx+1} class: {class_name}, Probability: {percentage:.2f}%')\n",
        "'''"
      ],
      "metadata": {
        "id": "er3V7Z4VBStW"
      },
      "execution_count": null,
      "outputs": []
    },
    {
      "cell_type": "code",
      "source": [
        "#explainer = SFL(model, (224, 224))\n",
        "from masker.batch import SFL_batch\n",
        "input_size = (224,224)\n",
        "sfl_batch = SFL_batch(model, input_size)\n",
        "image_folder = '/content/RISE-SFL/data_demo'\n",
        "masks, sampled_tensor = sfl.generate_mutants_batch()\n",
        "N = 10\n",
        "s = 8\n",
        "p1 = 0.2\n",
        "masks, sampled_tensors = sfl_batch.generate_batch_images(image_folder, N, s, p1)"
      ],
      "metadata": {
        "id": "vQAeAxZcBThT"
      },
      "execution_count": null,
      "outputs": []
    },
    {
      "cell_type": "code",
      "source": [
        "print(sampled_tensors[0].shape)\n",
        "print(masks.shape)"
      ],
      "metadata": {
        "id": "hGHTVDoifxp5"
      },
      "execution_count": null,
      "outputs": []
    },
    {
      "cell_type": "code",
      "source": [
        "def generate_pass_fail_list(N):\n",
        "    return [\"Pass\" if i % 2 == 0 else \"Fail\" for i in range(N)]\n",
        "\n",
        "pass_fail_list = generate_pass_fail_list(N)\n",
        "\n",
        "from visuals.plots import SFLVisualizer"
      ],
      "metadata": {
        "id": "n2_zjIHVhsAm"
      },
      "execution_count": null,
      "outputs": []
    },
    {
      "cell_type": "code",
      "source": [
        "visualizer = SFLVisualizer()\n",
        "visualizer.interactive_mutant_visualization(sampled_tensors[2], pass_fail_list)"
      ],
      "metadata": {
        "id": "xQfyAWXni4wf"
      },
      "execution_count": null,
      "outputs": []
    },
    {
      "cell_type": "code",
      "source": [
        "from sfl_techniques.sfl import RelevanceScore\n",
        "\n",
        "relevance_score_calculator = RelevanceScore(device='cuda')\n",
        "pixel_dataset = relevance_score_calculator.run(sampled_tensors[0], masks[0], N)\n",
        "\n",
        "import"
      ],
      "metadata": {
        "id": "NYJIIMqqjIYp"
      },
      "execution_count": null,
      "outputs": []
    },
    {
      "cell_type": "code",
      "source": [
        "from from visuals.saliency_maps.saliency import SaliencyMapVisualizer\n",
        "saliency_map = SaliencyMapVisualizer('catdog.png')\n"
      ],
      "metadata": {
        "id": "2Nq8t0JVC8Xj"
      },
      "execution_count": null,
      "outputs": []
    },
    {
      "cell_type": "code",
      "source": [
        "'''\n",
        "def visualize_pixel_scores(dataset, image_shape, original_image_array):\n",
        "    # Extract scores and reshape them into 2D arrays\n",
        "    scores = {\n",
        "        'Ep': np.zeros(image_shape),\n",
        "        'Ef': np.zeros(image_shape),\n",
        "        'Np': np.zeros(image_shape),\n",
        "        'Nf': np.zeros(image_shape),\n",
        "        'ochiai': np.zeros(image_shape),\n",
        "        'tarantula': np.zeros(image_shape),\n",
        "        'zoltar': np.zeros(image_shape),\n",
        "        'wong1': np.zeros(image_shape)\n",
        "    }\n",
        "    for pixel in dataset:\n",
        "        i, j = pixel['position']\n",
        "        for score_type in scores.keys():\n",
        "            scores[score_type][i, j] = pixel[score_type]\n",
        "\n",
        "    # Invert values for ochiai and tarantula\n",
        "    scores['ochiai'] = 1 - scores['ochiai']\n",
        "    scores['tarantula'] = 1 - scores['tarantula']\n",
        "    scores['zoltar']  = 1 - scores['zoltar']\n",
        "    scores['wong1']  = 1 - scores['wong1']\n",
        "\n",
        "    # Set up the plot\n",
        "    fig, axs = plt.subplots(2, 4, figsize=(20, 10))\n",
        "    fig.suptitle(\"Pixel-wise Scores Visualization\", fontsize=16)\n",
        "    # Define a color map\n",
        "    cmap = plt.get_cmap('jet')\n",
        "    # Plot each score type\n",
        "    for idx, (score_type, score_data) in enumerate(scores.items()):\n",
        "        row = idx // 4\n",
        "        col = idx % 4\n",
        "        ax = axs[row, col]\n",
        "\n",
        "        # Create the heatmap\n",
        "        im = ax.imshow(original_image_array, cmap='gray', alpha=1)\n",
        "        im = ax.imshow(score_data, cmap=cmap, alpha=0.5)\n",
        "        ax.set_title(score_type)\n",
        "        ax.axis('off')\n",
        "        # Add colorbar\n",
        "        divider = make_axes_locatable(ax)\n",
        "        cax = divider.append_axes(\"right\", size=\"5%\", pad=0.05)\n",
        "        plt.colorbar(im, cax=cax)\n",
        "    # Adjust layout and display\n",
        "    plt.tight_layout()\n",
        "    plt.show()\n",
        "\n",
        "# Load and resize the original image, and convert to grayscale\n",
        "\n",
        "\n",
        "original_image = Image.open('/content/RISE-SFL/data_demo/catdog.png').resize((224, 224)).convert('L')\n",
        "original_image_array = np.array(original_image)\n",
        "\n",
        "visualize_pixel_scores(pixel_dataset, (224, 224), original_image_array)\n",
        "'''"
      ],
      "metadata": {
        "id": "8GucKm-73kcZ"
      },
      "execution_count": null,
      "outputs": []
    },
    {
      "cell_type": "code",
      "source": [],
      "metadata": {
        "id": "Dy9xujBm-mr6"
      },
      "execution_count": null,
      "outputs": []
    }
  ],
  "metadata": {
    "language_info": {
      "name": "python"
    },
    "orig_nbformat": 4,
    "colab": {
      "provenance": [],
      "gpuType": "T4"
    },
    "kernelspec": {
      "name": "python3",
      "display_name": "Python 3"
    },
    "accelerator": "GPU"
  },
  "nbformat": 4,
  "nbformat_minor": 0
}